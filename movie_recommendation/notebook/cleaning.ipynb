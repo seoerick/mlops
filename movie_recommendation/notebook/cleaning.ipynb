{
 "cells": [
  {
   "cell_type": "code",
   "execution_count": 11,
   "metadata": {},
   "outputs": [],
   "source": [
    "from csv import reader\n",
    "from math import sqrt\n",
    "import pandas as pd\n",
    "import pickle"
   ]
  },
  {
   "cell_type": "markdown",
   "metadata": {},
   "source": [
    "# reading csv files\n"
   ]
  },
  {
   "cell_type": "code",
   "execution_count": 12,
   "metadata": {},
   "outputs": [],
   "source": [
    "movie_columns = ['movieId', 'title', 'genres']\n",
    "tag_columns = ['movieId', 'userId', 'tag']\n",
    "ratings_columns = ['movieId', 'userId', 'rating', 'timestamp']\n",
    "movies_df = pd.read_csv(\"../data/movies.csv\")[movie_columns]\n",
    "tags_df = pd.read_csv(\"../data/tags.csv\")[tag_columns]\n",
    "ratings_df = pd.read_csv(\"../data/ratings.csv\")[ratings_columns]"
   ]
  },
  {
   "cell_type": "markdown",
   "metadata": {},
   "source": [
    "# join"
   ]
  },
  {
   "cell_type": "code",
   "execution_count": 13,
   "metadata": {},
   "outputs": [
    {
     "name": "stdout",
     "output_type": "stream",
     "text": [
      "CPU times: user 36 s, sys: 4.39 s, total: 40.4 s\n",
      "Wall time: 40.7 s\n"
     ]
    }
   ],
   "source": [
    "tags_grouped_df = tags_df.groupby(['movieId', 'userId'], as_index=False)['tag'].agg(list)\n",
    "df_tag_rating =  ratings_df.merge(tags_grouped_df, how='left', on=['movieId', 'userId'])\n",
    "df_movies_tag_rating =  df_tag_rating.merge(movies_df, how='inner', on=['movieId'])"
   ]
  },
  {
   "cell_type": "code",
   "execution_count": 14,
   "metadata": {},
   "outputs": [
    {
     "name": "stdout",
     "output_type": "stream",
     "text": [
      "CPU times: user 2.78 s, sys: 1.6 s, total: 4.38 s\n",
      "Wall time: 4.41 s\n"
     ]
    }
   ],
   "source": [
    "df_movies_tag_rating.rename(columns = {'timestamp':'timestamp_rating'}, inplace = True)\n",
    "df_movies = df_movies_tag_rating[['movieId', 'userId', 'rating', 'timestamp_rating', 'tag', 'title', 'genres']] "
   ]
  },
  {
   "cell_type": "markdown",
   "metadata": {},
   "source": [
    "# Save"
   ]
  },
  {
   "cell_type": "code",
   "execution_count": 23,
   "metadata": {},
   "outputs": [],
   "source": [
    "df_movies_tag_rating.to_parquet('../results/movie.parquet')"
   ]
  }
 ],
 "metadata": {
  "kernelspec": {
   "display_name": "Python 3",
   "language": "python",
   "name": "python3"
  }
 },
 "nbformat": 4,
 "nbformat_minor": 4
}
