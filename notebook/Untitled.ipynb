{
 "cells": [
  {
   "cell_type": "code",
   "execution_count": 289,
   "metadata": {},
   "outputs": [],
   "source": [
    "from csv import reader\n",
    "from math import sqrt\n",
    "import numpy as np\n",
    "import matplotlib.pyplot as plt\n",
    "import pandas as pd\n",
    "import pickle\n",
    "import operator "
   ]
  },
  {
   "cell_type": "markdown",
   "metadata": {},
   "source": [
    "#  Selecionando colunas que categorizam/dão valor/representem  a/o filme"
   ]
  },
  {
   "cell_type": "code",
   "execution_count": 371,
   "metadata": {},
   "outputs": [],
   "source": [
    "movie_columns = [\"movieId\", \"rating\", \"genres\", \"title\"]\n",
    "movies_df = pd.read_parquet('../results/movie.parquet')[movie_columns]\n",
    "movies_df = movies_df.drop_duplicates()"
   ]
  },
  {
   "cell_type": "markdown",
   "metadata": {},
   "source": [
    "# Existem no total 59047 movieId distintos"
   ]
  },
  {
   "cell_type": "code",
   "execution_count": 372,
   "metadata": {},
   "outputs": [
    {
     "data": {
      "text/plain": [
       "59047"
      ]
     },
     "execution_count": 372,
     "metadata": {},
     "output_type": "execute_result"
    }
   ],
   "source": [
    "movies_df[\"movieId\"].nunique()"
   ]
  },
  {
   "cell_type": "markdown",
   "metadata": {},
   "source": [
    "# Tento agrupar o movieId com genero e titulo, para reduzir o valor de 25M para 59 mil. Tento tirar a media das avaliações dos filmes que os usuarios fizeram e faço uma normalização da quantidade de votos que o filme recebeu"
   ]
  },
  {
   "cell_type": "code",
   "execution_count": 373,
   "metadata": {},
   "outputs": [],
   "source": [
    "movies_df = movies_df.groupby(['movieId', \"genres\", 'title']).agg(size_rating=(\"rating\", np.size), \n",
    "                                                        mean_rating=(\"rating\", np.mean)).reset_index()\n",
    "movies_df[\"size_rating\"] = movies_df[\"size_rating\"].apply(\n",
    "                                            lambda x: \n",
    "                                                    (x - movies_df[\"size_rating\"].min()) / \n",
    "                                                    (movies_df[\"size_rating\"].max() - movies_df[\"size_rating\"].min())\n",
    ")"
   ]
  },
  {
   "cell_type": "markdown",
   "metadata": {},
   "source": [
    "# Faço um dicionario dos titulos e generos, para poder recuperar no final"
   ]
  },
  {
   "cell_type": "code",
   "execution_count": 374,
   "metadata": {},
   "outputs": [],
   "source": [
    "catalog = {}\n",
    "\n",
    "catalog[\"title\"] = dict(zip(movies_df.movieId, movies_df.title))\n",
    "catalog[\"genre\"] = dict(zip(movies_df.movieId, movies_df.genres))"
   ]
  },
  {
   "cell_type": "markdown",
   "metadata": {},
   "source": [
    "# Faço um explode na coluna genres e deixo tudo em uma unica linha. a categoria \"(no genres listed)\" foi removida pois nas outras categorias vão aparecer como 0"
   ]
  },
  {
   "cell_type": "code",
   "execution_count": 375,
   "metadata": {},
   "outputs": [],
   "source": [
    "movies_df = movies_df.assign(genres=movies_df['genres'].str.split('|')).explode('genres')\n",
    "genre_list = list(movies_df['genres'].unique())\n",
    "movies_df = pd.concat([movies_df.drop('genres', 1), pd.get_dummies(movies_df.genres).mul(1)], axis=1)\n",
    "movies_df = movies_df.drop(columns=['(no genres listed)'])\n",
    "genre_list.remove(\"(no genres listed)\")"
   ]
  },
  {
   "cell_type": "markdown",
   "metadata": {},
   "source": [
    "# Considero apenas as colunas numericas para poder medir a distancia euclidiana"
   ]
  },
  {
   "cell_type": "code",
   "execution_count": 376,
   "metadata": {},
   "outputs": [],
   "source": [
    "movies_df = movies_df.groupby(['movieId', 'title', 'size_rating', 'mean_rating'])[genre_list].sum().reset_index()\n"
   ]
  },
  {
   "cell_type": "code",
   "execution_count": 377,
   "metadata": {},
   "outputs": [],
   "source": [
    "def euclideanDistance(instance1, instance2, length):\n",
    "    distance = 0\n",
    "    for x in range(length):\n",
    "        distance += pow((instance1[x] - instance2[x]), 2)\n",
    "    return math.sqrt(distance)\n",
    "\n",
    "\n",
    "def getKNeighbors(trainingSet, testInstance, k):\n",
    "    distances = []\n",
    "    length = len(testInstance)-1\n",
    "    for x in range(len(trainingSet)):\n",
    "        dist = euclideanDistance(testInstance, trainingSet[x], length)\n",
    "        distances.append((trainingSet[x], dist))\n",
    "    distances.sort(key=operator.itemgetter(1))\n",
    "    neighbors = []\n",
    "    for x in range(k):\n",
    "        neighbors.append(distances[x][0])\n",
    "    return neighbors"
   ]
  },
  {
   "cell_type": "code",
   "execution_count": null,
   "metadata": {},
   "outputs": [],
   "source": []
  },
  {
   "cell_type": "code",
   "execution_count": 521,
   "metadata": {},
   "outputs": [],
   "source": [
    "movies_df = movies_df[genre_list+['size_rating', 'mean_rating', 'movieId']]"
   ]
  },
  {
   "cell_type": "code",
   "execution_count": 523,
   "metadata": {},
   "outputs": [],
   "source": [
    "testInstance = movies_df[movies_df[\"movieId\"]==231].values.tolist()[0][:-1]"
   ]
  },
  {
   "cell_type": "code",
   "execution_count": 524,
   "metadata": {},
   "outputs": [
    {
     "name": "stdout",
     "output_type": "stream",
     "text": [
      "CPU times: user 321 ms, sys: 18.7 ms, total: 340 ms\n",
      "Wall time: 341 ms\n"
     ]
    }
   ],
   "source": [
    "%%time\n",
    "trainSet = movies_df.values.tolist()\n",
    "k = 10\n",
    "neighbors=getKNeighbors(trainSet, testInstance[:-1], k)"
   ]
  },
  {
   "cell_type": "code",
   "execution_count": 526,
   "metadata": {},
   "outputs": [
    {
     "data": {
      "text/plain": [
       "'Dumb & Dumber (Dumb and Dumber) (1994)'"
      ]
     },
     "execution_count": 526,
     "metadata": {},
     "output_type": "execute_result"
    }
   ],
   "source": [
    "movie_title_catalog[231]"
   ]
  },
  {
   "cell_type": "code",
   "execution_count": 527,
   "metadata": {},
   "outputs": [
    {
     "name": "stdout",
     "output_type": "stream",
     "text": [
      "Dumb & Dumber (Dumb and Dumber) (1994)\n",
      "Around the World in 80 Days (1956)\n",
      "Adventures in Babysitting (1987)\n",
      "Gods Must Be Crazy, The (1980)\n",
      "Nothing But Trouble (1991)\n",
      "Crocodile Dundee (1986)\n",
      "Crimson Pirate, The (1952)\n",
      "Pee-wee's Big Adventure (1985)\n",
      "Me, Myself & Irene (2000)\n",
      "Breaking In (1989)\n"
     ]
    }
   ],
   "source": [
    "for movie in neighbors:\n",
    "    print(movie_title_catalog[movie[-1]])"
   ]
  },
  {
   "cell_type": "code",
   "execution_count": null,
   "metadata": {},
   "outputs": [],
   "source": []
  },
  {
   "cell_type": "code",
   "execution_count": 528,
   "metadata": {},
   "outputs": [],
   "source": [
    "movies_df.to_parquet('../models/movie.parquet')"
   ]
  },
  {
   "cell_type": "code",
   "execution_count": 529,
   "metadata": {},
   "outputs": [],
   "source": [
    "with open('../models/category.pickle', 'wb') as handle:\n",
    "    pickle.dump(category, handle, protocol=pickle.HIGHEST_PROTOCOL)"
   ]
  },
  {
   "cell_type": "code",
   "execution_count": null,
   "metadata": {},
   "outputs": [],
   "source": []
  }
 ],
 "metadata": {
  "kernelspec": {
   "display_name": "Python 3",
   "language": "python",
   "name": "python3"
  },
  "language_info": {
   "codemirror_mode": {
    "name": "ipython",
    "version": 3
   },
   "file_extension": ".py",
   "mimetype": "text/x-python",
   "name": "python",
   "nbconvert_exporter": "python",
   "pygments_lexer": "ipython3",
   "version": "3.7.6"
  }
 },
 "nbformat": 4,
 "nbformat_minor": 4
}
